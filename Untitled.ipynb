{
 "cells": [
  {
   "cell_type": "code",
   "execution_count": 62,
   "id": "c86b8350",
   "metadata": {},
   "outputs": [],
   "source": [
    "import numpy as np\n",
    "import collections\n",
    "import random\n",
    "import math\n",
    "from math import sqrt\n",
    "from sklearn.preprocessing import normalize"
   ]
  },
  {
   "cell_type": "code",
   "execution_count": 2,
   "id": "207deadd",
   "metadata": {},
   "outputs": [],
   "source": [
    "#set up the global variables\n",
    "if 1:\n",
    "    A = {'A':0,'T':1,'C':2,'G':3}\n",
    "else:\n",
    "    A = {}\n",
    "L = len(A)"
   ]
  },
  {
   "cell_type": "code",
   "execution_count": 3,
   "id": "dcbf2785",
   "metadata": {},
   "outputs": [],
   "source": [
    "class MEME:\n",
    "    def __init__(self, Y, W):\n",
    "        # the basic variables, parameters in the MEME\n",
    "        # the symbols are corresponding to the article\n",
    "        # the small z stores the information of big Z from motif for each subsequences and \n",
    "          # the storage position is depending on the start position index of the subsequence\n",
    "\n",
    "        self.N = len(Y)\n",
    "        self.l = [len(seqs) for seqs in Y]\n",
    "        self.W = W\n",
    "        self.X, self.total_freq, self.subseqs_amount_list = self.data_div(Y, W)\n",
    "        self.n = len(self.X)\n",
    "        self.Z = None\n",
    "        self.z = None\n",
    "        \n",
    "        self.f = None\n",
    "        self.f_0 = None\n",
    "\n",
    "        self.lamb1  = None\n",
    "        self.lamb2 = None\n",
    "        self.I = None\n",
    "        self.I_str = None\n",
    "        self.I_subseq_freq = None\n",
    "        self.var_init()\n",
    "        self.theta = [self.f, self.f_0]\n",
    "        self.lamb = [self.lamb1, self.lamb2]\n",
    "\n",
    "        self.erase = np.ones(self.n)\n",
    "\n",
    "    \n",
    "    def var_init(self):\n",
    "        # initialize the variables, parameters\n",
    "        # it will initialize: big Z, small z, lambda 1, lambda 2, f, f_0\n",
    "\n",
    "        self.Z = np.repeat(np.array([[1,0]]), self.n, axis = 0)\n",
    "        if self.n != sum(self.subseqs_amount_list):\n",
    "            print('Error')\n",
    "        else:\n",
    "            self.z = list()\n",
    "            z_idx = 0\n",
    "            for i in range(self.n):\n",
    "                for j in self.subseqs_amount_list:\n",
    "                    self.z[i][j] = self.Z[z_idx][0]\n",
    "                    z_idx += 1\n",
    "            for i in range(len(self.z)):\n",
    "                self.z[i] = preprocessing.normalize(self.z[i])\n",
    "                \n",
    "\n",
    "        lamb_range_m = min(sqrt(self.N)/self.n, 1/(2*self.W))\n",
    "        lamb_range_M = max(sqrt(self.N)/self.n, 1/(2*self.W))\n",
    "        self.lamb1 = random.uniform(lamb_range_m, lamb_range_M)\n",
    "        self.lamb2 = 1 - self.lamb1\n",
    "        \n",
    "        self.I, self.I_str, self.I_subseq_freq = self.indicator()\n",
    "        \n",
    "        idx = 0\n",
    "        for seq in range(self.N):\n",
    "            length = self.l[seq]\n",
    "            val = np.pad(np.array([self.Z[idx][0] for idx in range(idx, idx + length - self.W + 1, 1)])\\\n",
    "                         , (0, self.W - 1), mode = 'constant').reshape(length,)\n",
    "            self.z[seq][0:length] = val\n",
    "        \n",
    "        f = np.array([random.uniform(0,1) for _ in range(L * self.W)]).reshape(self.W, L)\n",
    "        for pos in range(self.W):\n",
    "            f[pos] = preprocessing.normalize(f[pos])\n",
    "        self.f = f\n",
    "        self.f_0 = preprocessing.normalize(np.array([random.unifrom(0,1) for _ in range(L)]).reshape(1, L))\n",
    "\n",
    "        return None\n",
    "    \n",
    "    def data_div(self, Y, W):\n",
    "        # divide the input data into subsequences\n",
    "        # correspond to the X and Y in the article\n",
    "        # also calculate the freq of each nucletide appearence\n",
    "\n",
    "        X = list()\n",
    "        C = dict( zip(A.keys(), [0]*L) )\n",
    "        amount = list()\n",
    "        for i in range(len(Y)):\n",
    "            subsequences = [ Y[i][j:j+W] for j in range( len(Y[i]) - W + 1) ]\n",
    "            X += subsequences\n",
    "            amount.append(len(subsequences))\n",
    "            for key in C:\n",
    "                C[key] += Y[i].count(key)\n",
    "\n",
    "        return X, C, amount\n",
    "\n",
    "    def indicator(self):\n",
    "        # contribute the indicator function matrix results\n",
    "        # I_str_idx \n",
    "          # type : np.array\n",
    "          # size : n x W\n",
    "          # meaning : transfer each subsequences' letters into integers\n",
    "        # I_str_count\n",
    "          # type : list of dictionary\n",
    "          # size : n dict() elements for each elements contain counter info.\n",
    "          # meaning : counts each subsequences letters appearance\n",
    "        \n",
    "        I_total = np.zeros((self.n, self.W, L), dtype = 'int')\n",
    "        I_str_idx = np.zeros((self.n, self.W), dtype = 'int')\n",
    "        I_str_count = list()\n",
    "        \n",
    "        for subseq in range(self.n):\n",
    "            for pos in range(self.W):\n",
    "                I_total[subseq][pos][ A[self.X[subseq][pos] ] ] = 1\n",
    "                I_str_idx[subseq][pos] = A[self.X[subseq][pos] ]\n",
    "            I_str_count.append(collections.Counter(list(I_str_idx)))\n",
    "\n",
    "        return I_total, I_str_idx, I_str_count\n",
    "\n",
    "    def condi_distributions(self, theta):\n",
    "        # calculate the conditional distribution p(Xi | theta_j)\n",
    "        # eq(7),(8) in the article\n",
    "\n",
    "        p_Xi_1 = np.ones((self.n, 1), dtype = 'float')\n",
    "        p_Xi_2 = np.ones((self.n, 1), dtype = 'float')\n",
    "        f = theta[0]\n",
    "        f_0 = theta[1]\n",
    "\n",
    "        for subseq in range(self.n):\n",
    "            for pos in range(self.W):\n",
    "                p_Xi_1[subseq] *= f[pos][self.I_str[subseq][pos]]\n",
    "                p_Xi_2[subseq] *= f_0[self.I_str[subseq][pos]]\n",
    "        \n",
    "        return p_Xi_1, p_Xi_2\n",
    "\n",
    "    def E_step(self, theta, lamb):\n",
    "        # the expectation step will update Zij\n",
    "\n",
    "        lamb1 = lamb[0]\n",
    "        lamb2 = lamb[1]\n",
    "        p_Xi_1, p_Xi_2 = self.condi_distributions(theta)\n",
    "        p1 = p_Xi_1 * lamb1\n",
    "        p2 = p_Xi_2 * lamb2\n",
    "        summation = p1 + p2\n",
    "\n",
    "        Z_ij = np.divide( np.concatenate((p1,p2), axis = 1), summation)\n",
    "        E_val = np.sum( np.multiply( Z_ij, np.concatenate((np.log(p1),np.log(p2)), axis = 1 ) ) )\n",
    "\n",
    "        self.E_step_update(Z_ij)\n",
    "\n",
    "        return E_val\n",
    "    \n",
    "    def E_step_update(self, Z):\n",
    "        self.Z = Z\n",
    "        return\n",
    "\n",
    "    def M_step(self, Z):\n",
    "        lamb1 = 0\n",
    "        lamb2 = 0\n",
    "        \n",
    "        # update lambda value\n",
    "        for i in range(self.n):\n",
    "            lamb1 += Z[i][0]\n",
    "            lamb2 += Z[i][1]\n",
    "        lamb1 /= self.n\n",
    "        lamb2 /= self.n\n",
    "\n",
    "        # update theta value\n",
    "        c_0k = np.zeros([1,L])\n",
    "        c_jk = np.zeros([self.W, L])\n",
    "        \n",
    "        \n",
    "        for k in range(L):\n",
    "            for i in range(self.n):\n",
    "                freq = self.I_subseq_freq[i]\n",
    "                c_0k[0][k] += Z[i][1]*freq[k]\n",
    "            for j in range(self.W):\n",
    "                val = 0\n",
    "                for i in range(self.n):\n",
    "                    if self.I_str[i][j] is k:\n",
    "                        val += self.erase[i]*self.Z[i][0]\n",
    "                c_jk[j][k] = val\n",
    "        \n",
    "        self.M_step_update([lamb1,lamb2], [c_0k,c_jk])\n",
    "\n",
    "        return\n",
    "    \n",
    "    def M_step_update(self, lamb, c):\n",
    "\n",
    "        # update lambda value\n",
    "        self.lamb1, self.lamb2, self.lamb = lamb[0], lamb[1], lamb\n",
    "\n",
    "        # update theta value\n",
    "        self.f_0 = c[0]/sum(c[0])\n",
    "        for pos in range(self.W):\n",
    "            self.f[pos] = c[pos]/sum(c[pos])\n",
    "        self.theta = [self.f, self.f_0]\n",
    "\n",
    "        return    \n",
    "\n",
    "    def iter(self):\n",
    "        return"
   ]
  },
  {
   "cell_type": "code",
   "execution_count": 10,
   "id": "c93814cc",
   "metadata": {},
   "outputs": [],
   "source": [
    "def data_div(Y, W):\n",
    "    # divide the input data into subsequences\n",
    "    # make the overlapping W-mer\n",
    "    # also calculate the freq of each nucletide appearence\n",
    "    # symbols correspond to the X and Y in the article\n",
    "    '''symbols explanation\n",
    "    Y: the original input sequences, expect in list shape\n",
    "    W: the length of each subsequences\n",
    "    X: the list of the W-mer subsequences\n",
    "    C: the total appearance of each nucletide\n",
    "    amount: the total amount of all subsequences\n",
    "    '''\n",
    "\n",
    "    X = list()\n",
    "    amount = list()\n",
    "    total_chr = ''\n",
    "    for i in range(len(Y)):\n",
    "        subsequences = [ Y[i][j:j+W] for j in range( len(Y[i]) - W + 1) ]\n",
    "        X += subsequences\n",
    "        amount.append(len(subsequences))\n",
    "        total_chr += Y[i]\n",
    "    C = collections.Counter(total_chr)\n",
    "    \n",
    "    return X, C, amount"
   ]
  },
  {
   "cell_type": "code",
   "execution_count": 47,
   "id": "83cc4652",
   "metadata": {},
   "outputs": [],
   "source": [
    "def indicator(n,W,L,X):\n",
    "    # contribute the indicator function matrix results\n",
    "    # I_str_idx \n",
    "        # type : np.array\n",
    "        # size : n x W\n",
    "        # meaning : transfer each subsequences' letters into integers\n",
    "    # I_str_count\n",
    "        # type : list of dictionary\n",
    "        # size : n dict() elements for each elements contain counter info.\n",
    "        # meaning : counts each subsequences letters appearance\n",
    "        \n",
    "    I_total = np.zeros((n, W, L), dtype = 'int')\n",
    "    I_str_idx = np.zeros((n, W), dtype = 'int')\n",
    "    I_str_count = list()\n",
    "        \n",
    "    for subseq in range(n):\n",
    "        for pos in range(W):\n",
    "            I_total[subseq][pos][ A[X[subseq][pos] ] ] = 1\n",
    "            I_str_idx[subseq][pos] = A[X[subseq][pos] ]\n",
    "        I_str_count.append(dict(collections.Counter(X[subseq])))\n",
    "\n",
    "    return I_total, I_str_idx, I_str_count"
   ]
  },
  {
   "cell_type": "code",
   "execution_count": null,
   "id": "6539f801",
   "metadata": {},
   "outputs": [],
   "source": [
    "def prob(n, theta, W, X):\n",
    "    p_0 = np.ones(n, dtype = 'float')\n",
    "    p_1 = np.ones(n, dtype = 'float')\n",
    "    f = theta[1]\n",
    "    f_0 = theta[0]\n",
    "    \n",
    "    for subseq in range(X):\n",
    "        for pos in range(W):\n",
    "            p_0[subseq] *= f_0[subseq[pos]]\n",
    "            p_1[subseq] *= f[pos][A[subseq[pos]]]\n",
    "    \n",
    "    return p_0, p_1"
   ]
  },
  {
   "cell_type": "code",
   "execution_count": null,
   "id": "9619cb74",
   "metadata": {},
   "outputs": [],
   "source": [
    "def E_step(theta, lamb, X, n, W):\n",
    "    # the expectation step will update Zij\n",
    "\n",
    "    lamb0 = lamb[0]\n",
    "    lamb1 = lamb[1]\n",
    "    p_0, p_1 = prob(theta)\n",
    "    p0 = p_0 * lamb0\n",
    "    p1 = p_1 * lamb1\n",
    "    summation = p0 + p1\n",
    "\n",
    "    Z_ij = np.divide( np.concatenate((p0,p1), axis = 1), summation)\n",
    "    E_val = np.sum( np.multiply( Z_ij, np.concatenate((np.log(p0),np.log(p1)), axis = 1 ) ) )\n",
    "\n",
    "    return E_val, Z_ij"
   ]
  },
  {
   "cell_type": "code",
   "execution_count": null,
   "id": "e1c556b1",
   "metadata": {},
   "outputs": [],
   "source": []
  },
  {
   "cell_type": "code",
   "execution_count": 8,
   "id": "283b06b0",
   "metadata": {},
   "outputs": [],
   "source": [
    "Y = ['ATCGGGAGTCAGTC','CGACGTAGCATCAGTCAGATC']\n",
    "W = 10"
   ]
  },
  {
   "cell_type": "code",
   "execution_count": 14,
   "id": "d363e163",
   "metadata": {
    "scrolled": true
   },
   "outputs": [],
   "source": [
    "X, total_freq, total_amount = data_div(Y,W)\n",
    "n = len(X)"
   ]
  },
  {
   "cell_type": "code",
   "execution_count": 48,
   "id": "ee6ee48f",
   "metadata": {
    "scrolled": true
   },
   "outputs": [],
   "source": [
    "I, istridx, istrcount = indicator(n,W,L,X)"
   ]
  },
  {
   "cell_type": "code",
   "execution_count": 74,
   "id": "3581aeb7",
   "metadata": {},
   "outputs": [],
   "source": [
    "f = np.array([random.uniform(0,1) for _ in range(L * W)]).reshape(W, L)\n",
    "for pos in range(W):\n",
    "    f[pos] = preprocessing.normalize(f[pos][:,np.newaxis], axis = 0).ravel()\n",
    "f_0 = preprocessing.normalize(np.array([random.uniform(0,1) for _ in range(L)]).reshape(1, L))"
   ]
  },
  {
   "cell_type": "code",
   "execution_count": 75,
   "id": "aba71c57",
   "metadata": {
    "scrolled": false
   },
   "outputs": [
    {
     "data": {
      "text/plain": [
       "array([[0.05897056, 0.55633688, 0.56327624, 0.60805561]])"
      ]
     },
     "execution_count": 75,
     "metadata": {},
     "output_type": "execute_result"
    }
   ],
   "source": [
    "f_0"
   ]
  },
  {
   "cell_type": "code",
   "execution_count": 60,
   "id": "0169e549",
   "metadata": {
    "collapsed": true
   },
   "outputs": [
    {
     "ename": "ValueError",
     "evalue": "Expected 2D array, got 1D array instead:\narray=[0.2924251  0.42431019 0.21273709 0.14726948].\nReshape your data either using array.reshape(-1, 1) if your data has a single feature or array.reshape(1, -1) if it contains a single sample.",
     "output_type": "error",
     "traceback": [
      "\u001b[1;31m---------------------------------------------------------------------------\u001b[0m",
      "\u001b[1;31mValueError\u001b[0m                                Traceback (most recent call last)",
      "Cell \u001b[1;32mIn[60], line 1\u001b[0m\n\u001b[1;32m----> 1\u001b[0m \u001b[43mpreprocessing\u001b[49m\u001b[38;5;241;43m.\u001b[39;49m\u001b[43mnormalize\u001b[49m\u001b[43m(\u001b[49m\u001b[43mf\u001b[49m\u001b[43m[\u001b[49m\u001b[38;5;241;43m0\u001b[39;49m\u001b[43m]\u001b[49m\u001b[43m)\u001b[49m\n",
      "File \u001b[1;32mC:\\ProgramData\\anaconda3\\lib\\site-packages\\sklearn\\preprocessing\\_data.py:1817\u001b[0m, in \u001b[0;36mnormalize\u001b[1;34m(X, norm, axis, copy, return_norm)\u001b[0m\n\u001b[0;32m   1814\u001b[0m \u001b[38;5;28;01melse\u001b[39;00m:\n\u001b[0;32m   1815\u001b[0m     \u001b[38;5;28;01mraise\u001b[39;00m \u001b[38;5;167;01mValueError\u001b[39;00m(\u001b[38;5;124m\"\u001b[39m\u001b[38;5;124m'\u001b[39m\u001b[38;5;132;01m%d\u001b[39;00m\u001b[38;5;124m'\u001b[39m\u001b[38;5;124m is not a supported axis\u001b[39m\u001b[38;5;124m\"\u001b[39m \u001b[38;5;241m%\u001b[39m axis)\n\u001b[1;32m-> 1817\u001b[0m X \u001b[38;5;241m=\u001b[39m \u001b[43mcheck_array\u001b[49m\u001b[43m(\u001b[49m\n\u001b[0;32m   1818\u001b[0m \u001b[43m    \u001b[49m\u001b[43mX\u001b[49m\u001b[43m,\u001b[49m\n\u001b[0;32m   1819\u001b[0m \u001b[43m    \u001b[49m\u001b[43maccept_sparse\u001b[49m\u001b[38;5;241;43m=\u001b[39;49m\u001b[43msparse_format\u001b[49m\u001b[43m,\u001b[49m\n\u001b[0;32m   1820\u001b[0m \u001b[43m    \u001b[49m\u001b[43mcopy\u001b[49m\u001b[38;5;241;43m=\u001b[39;49m\u001b[43mcopy\u001b[49m\u001b[43m,\u001b[49m\n\u001b[0;32m   1821\u001b[0m \u001b[43m    \u001b[49m\u001b[43mestimator\u001b[49m\u001b[38;5;241;43m=\u001b[39;49m\u001b[38;5;124;43m\"\u001b[39;49m\u001b[38;5;124;43mthe normalize function\u001b[39;49m\u001b[38;5;124;43m\"\u001b[39;49m\u001b[43m,\u001b[49m\n\u001b[0;32m   1822\u001b[0m \u001b[43m    \u001b[49m\u001b[43mdtype\u001b[49m\u001b[38;5;241;43m=\u001b[39;49m\u001b[43mFLOAT_DTYPES\u001b[49m\u001b[43m,\u001b[49m\n\u001b[0;32m   1823\u001b[0m \u001b[43m\u001b[49m\u001b[43m)\u001b[49m\n\u001b[0;32m   1824\u001b[0m \u001b[38;5;28;01mif\u001b[39;00m axis \u001b[38;5;241m==\u001b[39m \u001b[38;5;241m0\u001b[39m:\n\u001b[0;32m   1825\u001b[0m     X \u001b[38;5;241m=\u001b[39m X\u001b[38;5;241m.\u001b[39mT\n",
      "File \u001b[1;32mC:\\ProgramData\\anaconda3\\lib\\site-packages\\sklearn\\utils\\validation.py:902\u001b[0m, in \u001b[0;36mcheck_array\u001b[1;34m(array, accept_sparse, accept_large_sparse, dtype, order, copy, force_all_finite, ensure_2d, allow_nd, ensure_min_samples, ensure_min_features, estimator, input_name)\u001b[0m\n\u001b[0;32m    900\u001b[0m     \u001b[38;5;66;03m# If input is 1D raise error\u001b[39;00m\n\u001b[0;32m    901\u001b[0m     \u001b[38;5;28;01mif\u001b[39;00m array\u001b[38;5;241m.\u001b[39mndim \u001b[38;5;241m==\u001b[39m \u001b[38;5;241m1\u001b[39m:\n\u001b[1;32m--> 902\u001b[0m         \u001b[38;5;28;01mraise\u001b[39;00m \u001b[38;5;167;01mValueError\u001b[39;00m(\n\u001b[0;32m    903\u001b[0m             \u001b[38;5;124m\"\u001b[39m\u001b[38;5;124mExpected 2D array, got 1D array instead:\u001b[39m\u001b[38;5;130;01m\\n\u001b[39;00m\u001b[38;5;124marray=\u001b[39m\u001b[38;5;132;01m{}\u001b[39;00m\u001b[38;5;124m.\u001b[39m\u001b[38;5;130;01m\\n\u001b[39;00m\u001b[38;5;124m\"\u001b[39m\n\u001b[0;32m    904\u001b[0m             \u001b[38;5;124m\"\u001b[39m\u001b[38;5;124mReshape your data either using array.reshape(-1, 1) if \u001b[39m\u001b[38;5;124m\"\u001b[39m\n\u001b[0;32m    905\u001b[0m             \u001b[38;5;124m\"\u001b[39m\u001b[38;5;124myour data has a single feature or array.reshape(1, -1) \u001b[39m\u001b[38;5;124m\"\u001b[39m\n\u001b[0;32m    906\u001b[0m             \u001b[38;5;124m\"\u001b[39m\u001b[38;5;124mif it contains a single sample.\u001b[39m\u001b[38;5;124m\"\u001b[39m\u001b[38;5;241m.\u001b[39mformat(array)\n\u001b[0;32m    907\u001b[0m         )\n\u001b[0;32m    909\u001b[0m \u001b[38;5;28;01mif\u001b[39;00m dtype_numeric \u001b[38;5;129;01mand\u001b[39;00m array\u001b[38;5;241m.\u001b[39mdtype\u001b[38;5;241m.\u001b[39mkind \u001b[38;5;129;01min\u001b[39;00m \u001b[38;5;124m\"\u001b[39m\u001b[38;5;124mUSV\u001b[39m\u001b[38;5;124m\"\u001b[39m:\n\u001b[0;32m    910\u001b[0m     \u001b[38;5;28;01mraise\u001b[39;00m \u001b[38;5;167;01mValueError\u001b[39;00m(\n\u001b[0;32m    911\u001b[0m         \u001b[38;5;124m\"\u001b[39m\u001b[38;5;124mdtype=\u001b[39m\u001b[38;5;124m'\u001b[39m\u001b[38;5;124mnumeric\u001b[39m\u001b[38;5;124m'\u001b[39m\u001b[38;5;124m is not compatible with arrays of bytes/strings.\u001b[39m\u001b[38;5;124m\"\u001b[39m\n\u001b[0;32m    912\u001b[0m         \u001b[38;5;124m\"\u001b[39m\u001b[38;5;124mConvert your data to numeric values explicitly instead.\u001b[39m\u001b[38;5;124m\"\u001b[39m\n\u001b[0;32m    913\u001b[0m     )\n",
      "\u001b[1;31mValueError\u001b[0m: Expected 2D array, got 1D array instead:\narray=[0.2924251  0.42431019 0.21273709 0.14726948].\nReshape your data either using array.reshape(-1, 1) if your data has a single feature or array.reshape(1, -1) if it contains a single sample."
     ]
    }
   ],
   "source": [
    "preprocessing.normalize(f[0])"
   ]
  },
  {
   "cell_type": "code",
   "execution_count": 67,
   "id": "f6cab993",
   "metadata": {},
   "outputs": [
    {
     "data": {
      "text/plain": [
       "array([0.02203263, 0.0660979 , 0.11016316, 0.99146846])"
      ]
     },
     "execution_count": 67,
     "metadata": {},
     "output_type": "execute_result"
    }
   ],
   "source": [
    "tmpnp = np.array([1,3,5,45])\n",
    "normalize(tmpnp[:,np.newaxis], axis = 0).ravel()"
   ]
  },
  {
   "cell_type": "code",
   "execution_count": null,
   "id": "6a842a75",
   "metadata": {},
   "outputs": [],
   "source": []
  }
 ],
 "metadata": {
  "kernelspec": {
   "display_name": "Python 3 (ipykernel)",
   "language": "python",
   "name": "python3"
  },
  "language_info": {
   "codemirror_mode": {
    "name": "ipython",
    "version": 3
   },
   "file_extension": ".py",
   "mimetype": "text/x-python",
   "name": "python",
   "nbconvert_exporter": "python",
   "pygments_lexer": "ipython3",
   "version": "3.10.9"
  }
 },
 "nbformat": 4,
 "nbformat_minor": 5
}
